{
 "cells": [
  {
   "cell_type": "code",
   "execution_count": null,
   "metadata": {},
   "outputs": [],
   "source": [
    "! pip install selenium"
   ]
  },
  {
   "cell_type": "code",
   "execution_count": null,
   "metadata": {},
   "outputs": [],
   "source": [
    "! pip install bs4"
   ]
  },
  {
   "cell_type": "code",
   "execution_count": null,
   "metadata": {},
   "outputs": [],
   "source": [
    "! pip install requests"
   ]
  },
  {
   "cell_type": "code",
   "execution_count": null,
   "metadata": {},
   "outputs": [],
   "source": [
    "import time\n",
    "import os\n",
    "import re\n",
    "from bs4 import BeautifulSoup\n",
    "from selenium import webdriver\n",
    "from webdriver_manager.chrome import ChromeDriverManager\n",
    "from selenium.webdriver.chrome.service import Service\n",
    "from selenium.webdriver.chrome.options import Options\n",
    "from tqdm import tqdm\n",
    "import pandas as pd\n",
    "import requests\n",
    "\n",
    "\n",
    "# Driver creation\n",
    "chrome_options = Options() # Initializing am options object \n",
    "\n",
    "chrome_options.add_argument(\"--no-sandbox\")\n",
    "# Silent download of drivers\n",
    "os.environ['WDM_LOG'] = 'False'\n",
    "\n",
    "# Create service\n",
    "webdriver_service = Service(ChromeDriverManager().install())\n",
    "driver = webdriver.Chrome(service = webdriver_service, options = chrome_options)\n",
    "\n",
    "roles = ['Data Engineer','Data Analyst','Data Scientist','Machine Learning Engineer']\n",
    "role_comp = []\n",
    "role_loc = []\n",
    "role_summary = []\n",
    "role_title = []\n",
    "role_salary = []\n",
    "role_postedon = []\n",
    "role_url = []\n",
    "# Scrape 300 Job postings per role\n",
    "for role in roles:\n",
    "    print(f\"Companies offering jobs for {role} role:-\")\n",
    "    comp_name = []\n",
    "    comp_location = []\n",
    "    summary = []\n",
    "    title = []\n",
    "    posted_on = []\n",
    "    salary = []\n",
    "    job_url = []\n",
    "    for i in range(1,23):\n",
    "        link = f\"https://in.indeed.com/jobs?q={role.replace(' ', '+')}&l=India&start={10*i}\"\n",
    "        driver.get(link)\n",
    "        page_source = driver.page_source\n",
    "        # Parse 1-page\n",
    "        soup = BeautifulSoup(page_source, 'lxml')\n",
    "        v = soup.find_all('a',class_='jcs-JobTitle css-jspxzf eu4oa1w0')\n",
    "        for i in v:\n",
    "            x = 'https://www.indeed.co.in' + i.get('href')\n",
    "            job_url.append(x)\n",
    "        \n",
    "        for i in soup.find_all('span', class_= 'companyName'):\n",
    "            comp_name.append(i.text)\n",
    "        for i in soup.find_all('div','companyLocation'):\n",
    "            comp_location.append(i.text)\n",
    "        for i in soup.find_all('div',class_='job-snippet'):\n",
    "            summary.append(i.text)\n",
    "        for i in soup.find_all('h2',class_ = 'jobTitle'):\n",
    "            title.append(i.text)\n",
    "        for i in soup.find_all('span',class_='date'):\n",
    "            posted_on.append(i.text)\n",
    "        for i in soup.find_all('div',class_='salary-snippet-container'):\n",
    "            salary.append(i.text)\n",
    "    role_comp.append(comp_name)\n",
    "    role_loc.append(comp_location)\n",
    "    role_summary.append(summary)\n",
    "    role_title.append(title)\n",
    "    role_postedon.append(posted_on)\n",
    "    role_salary.append(salary)\n",
    "    role_url.append(job_url)"
   ]
  },
  {
   "cell_type": "code",
   "execution_count": null,
   "metadata": {},
   "outputs": [],
   "source": [
    "role_url = [i[:300] for i in role_url]\n",
    "role_comp = [i[:300] for i in role_comp]\n",
    "role_loc = [i[:300] for i in role_loc]\n",
    "role_summary = [i[:300] for i in role_summary]\n",
    "role_title = [i[:300] for i in role_title]\n",
    "role_postedon = [i[:300] for i in role_postedon]\n",
    "role_salary = [i[:300] for i in role_salary]"
   ]
  },
  {
   "cell_type": "code",
   "execution_count": null,
   "metadata": {},
   "outputs": [],
   "source": [
    "role = []\n",
    "for i in range(300):\n",
    "    role.append('Data Engineer')\n",
    "for i in range(300):\n",
    "    role.append('Data Analyst')\n",
    "for i in range(300):\n",
    "    role.append('Data Scientist')\n",
    "for i in range(300):\n",
    "    role.append('Machine Learning Engineer')"
   ]
  },
  {
   "cell_type": "code",
   "execution_count": null,
   "metadata": {},
   "outputs": [],
   "source": [
    "import numpy as np"
   ]
  },
  {
   "cell_type": "code",
   "execution_count": null,
   "metadata": {},
   "outputs": [],
   "source": [
    "for i in role_salary:\n",
    "    if len(i)<300:\n",
    "        for j in range(len(i),300):\n",
    "            i.append(np.nan)"
   ]
  },
  {
   "cell_type": "code",
   "execution_count": null,
   "metadata": {},
   "outputs": [],
   "source": [
    "role_salary = [i[:300] for i in role_salary]"
   ]
  },
  {
   "cell_type": "code",
   "execution_count": null,
   "metadata": {},
   "outputs": [],
   "source": [
    "job_URL = np.array(role_url).flatten()\n",
    "company_name = np.array(role_comp).flatten()\n",
    "company_location = np.array(role_loc).flatten()\n",
    "job_summary = np.array(role_summary).flatten()\n",
    "job_title = np.array(role_title).flatten()\n",
    "job_posted_on = np.array(role_postedon).flatten()\n",
    "job_salary = np.array(role_salary).flatten()"
   ]
  },
  {
   "cell_type": "code",
   "execution_count": null,
   "metadata": {},
   "outputs": [],
   "source": [
    "mydict = {'JOB_ROLE':role,'JOB_URL':job_URL,'JOB_COMPANY':company_name,'JOB_LOCATION':company_location,'JOB_SUMMARY':job_summary,'JOB_TITLE':job_title,'POSTED_ON':job_posted_on,'JOB_SALARY':job_salary}"
   ]
  },
  {
   "cell_type": "code",
   "execution_count": null,
   "metadata": {},
   "outputs": [],
   "source": [
    "import pandas as pd\n",
    "job_Df = pd.DataFrame.from_dict(mydict)"
   ]
  },
  {
   "cell_type": "code",
   "execution_count": null,
   "metadata": {},
   "outputs": [],
   "source": [
    "job_Df"
   ]
  },
  {
   "cell_type": "code",
   "execution_count": null,
   "metadata": {},
   "outputs": [],
   "source": [
    "from datetime import date\n",
    " \n",
    "# Returns the current local date\n",
    "today = date.today().strftime(\"%d/%m/%Y\")\n",
    "date_today = []\n",
    "for i in range(1200):\n",
    "    date_today.append(today)"
   ]
  },
  {
   "cell_type": "code",
   "execution_count": null,
   "metadata": {},
   "outputs": [],
   "source": [
    "job_Df['Date_Today'] = date_today"
   ]
  },
  {
   "cell_type": "code",
   "execution_count": null,
   "metadata": {},
   "outputs": [],
   "source": [
    "job_Df"
   ]
  }
 ],
 "metadata": {
  "language_info": {
   "name": "python"
  },
  "orig_nbformat": 4
 },
 "nbformat": 4,
 "nbformat_minor": 2
}
